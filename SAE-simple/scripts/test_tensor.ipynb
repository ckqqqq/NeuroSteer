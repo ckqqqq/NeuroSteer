{
 "cells": [
  {
   "cell_type": "code",
   "execution_count": 28,
   "metadata": {},
   "outputs": [
    {
     "name": "stdout",
     "output_type": "stream",
     "text": [
      "torch.Size([6, 5, 4])\n"
     ]
    }
   ],
   "source": [
    "import torch\n",
    "\n",
    "# 假设 batch_latents 是一个包含多个三维张量的列表\n",
    "a = torch.randn(2, 3, 4)  # 形状 (2, 3, 4)\n",
    "b = torch.randn(2, 5, 4)  # 形状 (2, 5, 4)\n",
    "c = torch.randn(2, 2, 4)  # 形状 (2, 2, 4)\n",
    "batch_latents = [a, b, c]\n",
    "\n",
    "# 计算第二个维度的最大值\n",
    "max_dim1 = max(latent.size(1) for latent in batch_latents)  # 第二个维度的最大值\n",
    "\n",
    "# 对每个 Tensor 进行填充（仅填充第二个维度）\n",
    "padded_latents = [\n",
    "    torch.nn.functional.pad(latent, (0, 0, 0, max_dim1 - latent.size(1)), \"constant\", 0)\n",
    "    for latent in batch_latents\n",
    "]\n",
    "\n",
    "# 基于第一个维度进行堆叠\n",
    "stacked_latents = torch.cat(padded_latents, dim=0)\n",
    "\n",
    "print(stacked_latents.shape)  # 输出形状，应该是 (6, 5, 4)"
   ]
  },
  {
   "cell_type": "code",
   "execution_count": 26,
   "metadata": {},
   "outputs": [
    {
     "data": {
      "text/plain": [
       "5"
      ]
     },
     "execution_count": 26,
     "metadata": {},
     "output_type": "execute_result"
    }
   ],
   "source": [
    "max_dim1"
   ]
  },
  {
   "cell_type": "code",
   "execution_count": 25,
   "metadata": {},
   "outputs": [
    {
     "data": {
      "text/plain": [
       "tensor([[[-0.8071,  1.3985, -0.6701, -1.5767],\n",
       "         [ 0.3758, -0.0732,  0.0732, -0.5156],\n",
       "         [ 1.5471, -0.6376, -0.7931,  0.3049]],\n",
       "\n",
       "        [[-0.1562, -1.1074, -0.3387, -0.1765],\n",
       "         [ 0.1164, -0.2448, -1.1447, -0.0258],\n",
       "         [ 0.9395, -0.7757, -1.1107,  0.1880]]])"
      ]
     },
     "execution_count": 25,
     "metadata": {},
     "output_type": "execute_result"
    }
   ],
   "source": [
    "a"
   ]
  },
  {
   "cell_type": "code",
   "execution_count": 24,
   "metadata": {},
   "outputs": [
    {
     "data": {
      "text/plain": [
       "tensor([[[-0.8071,  1.3985, -0.6701, -1.5767],\n",
       "         [ 0.3758, -0.0732,  0.0732, -0.5156],\n",
       "         [ 1.5471, -0.6376, -0.7931,  0.3049],\n",
       "         [ 0.0000,  0.0000,  0.0000,  0.0000],\n",
       "         [ 0.0000,  0.0000,  0.0000,  0.0000]],\n",
       "\n",
       "        [[-0.1562, -1.1074, -0.3387, -0.1765],\n",
       "         [ 0.1164, -0.2448, -1.1447, -0.0258],\n",
       "         [ 0.9395, -0.7757, -1.1107,  0.1880],\n",
       "         [ 0.0000,  0.0000,  0.0000,  0.0000],\n",
       "         [ 0.0000,  0.0000,  0.0000,  0.0000]],\n",
       "\n",
       "        [[ 0.0379,  1.9919,  0.0804, -0.8319],\n",
       "         [ 1.7970, -0.7157, -1.0683, -0.3876],\n",
       "         [ 1.4193,  0.1243, -0.3534, -0.3106],\n",
       "         [ 0.4134, -0.0437, -0.7826,  0.3276],\n",
       "         [-0.5432, -0.1519, -0.5887, -0.2240]],\n",
       "\n",
       "        [[ 0.6305,  1.0467,  0.6052,  1.6762],\n",
       "         [ 1.7311,  0.3652,  1.1454, -1.2955],\n",
       "         [-0.2031,  0.3559, -0.5388, -0.1784],\n",
       "         [ 0.0429,  0.5070, -0.2623, -0.9959],\n",
       "         [-0.3980,  0.1308,  0.3514,  0.6875]],\n",
       "\n",
       "        [[-0.0101,  0.3035,  0.6332,  0.6073],\n",
       "         [ 0.2835, -0.8442, -1.3576, -0.0249],\n",
       "         [ 0.0000,  0.0000,  0.0000,  0.0000],\n",
       "         [ 0.0000,  0.0000,  0.0000,  0.0000],\n",
       "         [ 0.0000,  0.0000,  0.0000,  0.0000]],\n",
       "\n",
       "        [[ 0.5584,  0.4940,  0.4985,  0.0995],\n",
       "         [ 0.9080,  1.5458, -1.4601,  1.0766],\n",
       "         [ 0.0000,  0.0000,  0.0000,  0.0000],\n",
       "         [ 0.0000,  0.0000,  0.0000,  0.0000],\n",
       "         [ 0.0000,  0.0000,  0.0000,  0.0000]]])"
      ]
     },
     "execution_count": 24,
     "metadata": {},
     "output_type": "execute_result"
    }
   ],
   "source": [
    "stacked_latents"
   ]
  },
  {
   "cell_type": "code",
   "execution_count": 19,
   "metadata": {},
   "outputs": [
    {
     "data": {
      "text/plain": [
       "tensor([[[ 1.2746e-01,  1.1922e+00,  3.4399e-01,  1.3137e+00],\n",
       "         [-5.9339e-01,  1.7950e+00, -5.5839e-01, -6.1768e-01],\n",
       "         [ 1.4780e+00, -1.8156e-01,  1.1146e+00, -8.5840e-02],\n",
       "         [-8.2444e-02, -7.0281e-01, -1.1828e+00, -8.3938e-01],\n",
       "         [ 2.6087e+00, -1.4187e+00,  6.7597e-01,  1.5850e-03]],\n",
       "\n",
       "        [[-2.8776e-01,  8.9521e-01, -1.4459e+00,  5.2116e-01],\n",
       "         [ 0.0000e+00,  0.0000e+00,  0.0000e+00,  0.0000e+00],\n",
       "         [ 0.0000e+00,  0.0000e+00,  0.0000e+00,  0.0000e+00],\n",
       "         [ 0.0000e+00,  0.0000e+00,  0.0000e+00,  0.0000e+00],\n",
       "         [ 0.0000e+00,  0.0000e+00,  0.0000e+00,  0.0000e+00]],\n",
       "\n",
       "        [[ 1.1049e-01,  8.9829e-01,  3.9984e-01,  1.2490e-01],\n",
       "         [-1.3378e-01, -6.7671e-01,  4.9730e-01, -1.3999e+00],\n",
       "         [-5.1278e-01, -7.5560e-01, -1.0368e+00,  7.4515e-02],\n",
       "         [-1.3729e+00,  1.7007e+00, -4.9021e-01, -1.0797e+00],\n",
       "         [ 2.4871e-02, -4.4387e-01, -2.7884e-02,  1.3790e+00]],\n",
       "\n",
       "        [[ 5.7060e-01,  5.3225e-02, -1.5095e+00,  1.6277e+00],\n",
       "         [ 5.1115e-01,  1.0173e+00,  1.3610e+00,  1.3585e+00],\n",
       "         [-4.2149e-01, -2.5120e-01, -1.4484e+00,  3.9895e-01],\n",
       "         [ 5.7963e-01,  3.0490e-01, -1.0367e+00,  3.7091e-01],\n",
       "         [-1.4678e+00, -9.7511e-01, -1.9217e+00,  3.3739e-01]],\n",
       "\n",
       "        [[ 4.5532e-01, -1.0120e+00, -1.2602e+00, -1.1014e+00],\n",
       "         [ 1.9630e+00,  1.8509e-01,  8.2619e-01,  2.2103e+00],\n",
       "         [ 8.2986e-02,  1.0077e+00, -5.3341e-01, -1.4770e+00],\n",
       "         [-1.0567e+00, -5.2997e-01,  1.4448e-01,  7.6975e-01],\n",
       "         [ 0.0000e+00,  0.0000e+00,  0.0000e+00,  0.0000e+00]],\n",
       "\n",
       "        [[ 0.0000e+00,  0.0000e+00,  0.0000e+00,  0.0000e+00],\n",
       "         [ 0.0000e+00,  0.0000e+00,  0.0000e+00,  0.0000e+00],\n",
       "         [ 0.0000e+00,  0.0000e+00,  0.0000e+00,  0.0000e+00],\n",
       "         [ 0.0000e+00,  0.0000e+00,  0.0000e+00,  0.0000e+00],\n",
       "         [ 0.0000e+00,  0.0000e+00,  0.0000e+00,  0.0000e+00]]])"
      ]
     },
     "execution_count": 19,
     "metadata": {},
     "output_type": "execute_result"
    }
   ],
   "source": [
    "stacked_latents\n"
   ]
  },
  {
   "cell_type": "code",
   "execution_count": 4,
   "metadata": {},
   "outputs": [
    {
     "data": {
      "text/plain": [
       "tensor([[[-0.5098,  0.8720, -0.6750,  1.0764],\n",
       "         [-1.1190,  0.2767, -0.4411, -2.1957],\n",
       "         [-0.5613, -0.1135,  0.2344,  0.5714],\n",
       "         [ 0.0000,  0.0000,  0.0000,  0.0000],\n",
       "         [ 0.0000,  0.0000,  0.0000,  0.0000]],\n",
       "\n",
       "        [[-0.2739, -1.4796,  0.0251, -1.3894],\n",
       "         [ 0.0086,  1.2457, -1.1855, -1.1024],\n",
       "         [ 0.2383,  1.8427,  0.8460,  0.3798],\n",
       "         [ 0.0000,  0.0000,  0.0000,  0.0000],\n",
       "         [ 0.0000,  0.0000,  0.0000,  0.0000]],\n",
       "\n",
       "        [[-0.1677, -0.3412,  0.1167,  0.3000],\n",
       "         [-1.4448, -0.5128, -0.0215, -1.0978],\n",
       "         [-0.8985, -0.2915,  1.1266, -0.1918],\n",
       "         [-0.3812, -0.3108,  1.7124, -1.1379],\n",
       "         [-1.2062,  1.9020, -0.4716,  1.1346]],\n",
       "\n",
       "        [[ 1.2064, -1.3618,  1.0081,  0.0284],\n",
       "         [-0.6396,  1.1192, -0.7387,  1.2435],\n",
       "         [ 0.6682, -0.1655, -1.1520, -1.2250],\n",
       "         [ 0.4401,  0.1402,  2.6655,  0.8387],\n",
       "         [ 1.7636, -0.6274, -0.6443,  0.4765]],\n",
       "\n",
       "        [[-2.4891, -0.3024, -0.5551, -0.3372],\n",
       "         [ 0.1339,  0.3180,  1.2707,  0.1083],\n",
       "         [ 0.0000,  0.0000,  0.0000,  0.0000],\n",
       "         [ 0.0000,  0.0000,  0.0000,  0.0000],\n",
       "         [ 0.0000,  0.0000,  0.0000,  0.0000]],\n",
       "\n",
       "        [[ 0.4783,  1.1615,  1.4053,  1.7132],\n",
       "         [-0.4193, -0.2765,  1.0276,  0.3398],\n",
       "         [ 0.0000,  0.0000,  0.0000,  0.0000],\n",
       "         [ 0.0000,  0.0000,  0.0000,  0.0000],\n",
       "         [ 0.0000,  0.0000,  0.0000,  0.0000]]])"
      ]
     },
     "execution_count": 4,
     "metadata": {},
     "output_type": "execute_result"
    }
   ],
   "source": [
    "stacked_latents"
   ]
  },
  {
   "cell_type": "code",
   "execution_count": 5,
   "metadata": {},
   "outputs": [
    {
     "name": "stderr",
     "output_type": "stream",
     "text": [
      "/home/ckqsudo/miniconda3/envs/SAE/lib/python3.11/site-packages/torch/nested/__init__.py:226: UserWarning: The PyTorch API of nested tensors is in prototype stage and will change in the near future. (Triggered internally at ../aten/src/ATen/NestedTensorImpl.cpp:178.)\n",
      "  return _nested.nested_tensor(\n"
     ]
    },
    {
     "ename": "TypeError",
     "evalue": "cat() received an invalid combination of arguments - got (Tensor, dim=int), but expected one of:\n * (tuple of Tensors tensors, int dim = 0, *, Tensor out = None)\n * (tuple of Tensors tensors, name dim, *, Tensor out = None)\n",
     "output_type": "error",
     "traceback": [
      "\u001b[0;31m---------------------------------------------------------------------------\u001b[0m",
      "\u001b[0;31mTypeError\u001b[0m                                 Traceback (most recent call last)",
      "Cell \u001b[0;32mIn[5], line 17\u001b[0m\n\u001b[1;32m     14\u001b[0m padded_latents \u001b[38;5;241m=\u001b[39m torch\u001b[38;5;241m.\u001b[39mnested\u001b[38;5;241m.\u001b[39mto_padded_tensor(nested_latents, padding\u001b[38;5;241m=\u001b[39m\u001b[38;5;241m0\u001b[39m)\n\u001b[1;32m     16\u001b[0m \u001b[38;5;66;03m# 基于第一个维度进行堆叠\u001b[39;00m\n\u001b[0;32m---> 17\u001b[0m stacked_latents \u001b[38;5;241m=\u001b[39m \u001b[43mtorch\u001b[49m\u001b[38;5;241;43m.\u001b[39;49m\u001b[43mcat\u001b[49m\u001b[43m(\u001b[49m\u001b[43mpadded_latents\u001b[49m\u001b[43m,\u001b[49m\u001b[43m \u001b[49m\u001b[43mdim\u001b[49m\u001b[38;5;241;43m=\u001b[39;49m\u001b[38;5;241;43m0\u001b[39;49m\u001b[43m)\u001b[49m\n\u001b[1;32m     19\u001b[0m \u001b[38;5;28mprint\u001b[39m(stacked_latents\u001b[38;5;241m.\u001b[39mshape)  \u001b[38;5;66;03m# 输出形状，应该是 (6, 5, 4)\u001b[39;00m\n",
      "\u001b[0;31mTypeError\u001b[0m: cat() received an invalid combination of arguments - got (Tensor, dim=int), but expected one of:\n * (tuple of Tensors tensors, int dim = 0, *, Tensor out = None)\n * (tuple of Tensors tensors, name dim, *, Tensor out = None)\n"
     ]
    }
   ],
   "source": []
  }
 ],
 "metadata": {
  "kernelspec": {
   "display_name": "SAE",
   "language": "python",
   "name": "python3"
  },
  "language_info": {
   "codemirror_mode": {
    "name": "ipython",
    "version": 3
   },
   "file_extension": ".py",
   "mimetype": "text/x-python",
   "name": "python",
   "nbconvert_exporter": "python",
   "pygments_lexer": "ipython3",
   "version": "3.11.0"
  }
 },
 "nbformat": 4,
 "nbformat_minor": 2
}
